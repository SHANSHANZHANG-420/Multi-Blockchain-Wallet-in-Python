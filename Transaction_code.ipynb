{
 "cells": [
  {
   "cell_type": "code",
   "execution_count": 2,
   "id": "7c9362c1-ebaf-4183-980e-7ffa9ff86d16",
   "metadata": {},
   "outputs": [],
   "source": [
    "import subprocess\n",
    "import json"
   ]
  },
  {
   "cell_type": "code",
   "execution_count": 3,
   "id": "1ff5fc6f-0632-41ad-a835-54f226444086",
   "metadata": {},
   "outputs": [],
   "source": [
    "import os\n",
    "from dotenv import load_dotenv\n",
    "from constants import *\n",
    "from bit import Key, PrivateKey, PrivateKeyTestnet\n",
    "from bit.network import NetworkAPI\n",
    "from bit import *\n",
    "from web3 import Web3\n",
    "from eth_account import Account"
   ]
  },
  {
   "cell_type": "code",
   "execution_count": 4,
   "id": "74fba3cd-bfb7-48f2-8cb3-b1ab86ff2602",
   "metadata": {},
   "outputs": [],
   "source": [
    "command = './derive -g --mnemonic=\"father left twin fine chicken okay girl vapor scissors involve mushroom tip\" --cols=path,address,privkey,pubkey --format=json'"
   ]
  },
  {
   "cell_type": "code",
   "execution_count": 5,
   "id": "99d6c44d-c79a-4f07-998d-bc6258cadca0",
   "metadata": {},
   "outputs": [],
   "source": [
    "p = subprocess.Popen(command, stdout=subprocess.PIPE, shell=True)\n",
    "output, err = p.communicate()\n",
    "p_status = p.wait()\n"
   ]
  },
  {
   "cell_type": "code",
   "execution_count": 6,
   "id": "53d7e168-9d74-453b-bf6b-58894e4f6e3a",
   "metadata": {},
   "outputs": [],
   "source": [
    "#keys = json.loads(output)"
   ]
  },
  {
   "cell_type": "code",
   "execution_count": 7,
   "id": "b942ae92-09fa-41f6-91e4-cad77e38277e",
   "metadata": {},
   "outputs": [],
   "source": [
    "#print(keys)\n"
   ]
  },
  {
   "cell_type": "code",
   "execution_count": 8,
   "id": "5ef76d0a-eb5d-4d26-a119-5274787d9bc9",
   "metadata": {},
   "outputs": [
    {
     "name": "stdout",
     "output_type": "stream",
     "text": [
      "father left twin fine chicken okay girl vapor scissors involve mushroom tip\n"
     ]
    }
   ],
   "source": [
    "# nodes running \n",
    "w3 = Web3(Web3.HTTPProvider(\"http://127.0.0.1.8545\"))\n",
    "\n",
    "# Loading Mnemonic \n",
    "mnemonic = os.getenv('MNEMONIC', \"father left twin fine chicken okay girl vapor scissors involve mushroom tip\")\n",
    "print(mnemonic)\n"
   ]
  },
  {
   "cell_type": "code",
   "execution_count": 9,
   "id": "563853f5-80cc-45d7-9181-d56d3bc4ad59",
   "metadata": {},
   "outputs": [],
   "source": [
    "coins = {\"eth\", \"btc-test\", \"btc\"}\n",
    "numderive = 3"
   ]
  },
  {
   "cell_type": "code",
   "execution_count": 10,
   "id": "dfc89c2e-ba64-4ab6-8698-3dcfefa4c6cd",
   "metadata": {},
   "outputs": [],
   "source": [
    "def derive_wallets(mnemonic, coin, numderive):\n",
    "    command = f'php ./hd-wallet-derive/hd-wallet-derive.php -g --mnemonic=\"{mnemonic}\" --numderive=\"{numderive}\" --coin=\"{coin}\" --format=json' \n",
    "    \n",
    "    p = subprocess.Popen(command, stdout=subprocess.PIPE, shell=True)\n",
    "    (output, err) = p.communicate()\n",
    "   \n",
    "    keys = json.loads(output)\n",
    "    return  keys"
   ]
  },
  {
   "cell_type": "code",
   "execution_count": 11,
   "id": "c4790a03-7974-4254-8f30-1fe207bbf8b5",
   "metadata": {},
   "outputs": [],
   "source": [
    "keys = {}\n",
    "for coin in coins:\n",
    "    keys[coin]= derive_wallets(os.getenv('mnemonic'), coin, numderive=3)"
   ]
  },
  {
   "cell_type": "code",
   "execution_count": 12,
   "id": "599516e4-4ab8-4b53-b282-b5980d152820",
   "metadata": {},
   "outputs": [
    {
     "name": "stdout",
     "output_type": "stream",
     "text": [
      "\"0xd36d0f9ff2f6dc80208cd19e0b7d939f11bd1a63d10c38cdc1c58f4dbbc95edc\"\n",
      "\"cUMT7ptJgxrwSm9s5zSUCKUhSNVq1UC9v31vgoSusyukAciNMdDt\"\n"
     ]
    }
   ],
   "source": [
    "eth_PrivateKey = keys[\"eth\"][0]['privkey']\n",
    "btc_PrivateKey = keys['btc-test'][0]['privkey']\n",
    "\n",
    "\n",
    "print(json.dumps(eth_PrivateKey, indent=1, sort_keys=True))\n",
    "print(json.dumps(btc_PrivateKey, indent=1, sort_keys=True))\n"
   ]
  },
  {
   "cell_type": "code",
   "execution_count": 13,
   "id": "8c132d6f-8aa8-4f34-a42c-d57eece2c003",
   "metadata": {},
   "outputs": [
    {
     "name": "stdout",
     "output_type": "stream",
     "text": [
      "{\n",
      "   \"btc\": [\n",
      "      {\n",
      "         \"address\": \"1Hk26uv3aSo2WmKNPbeUGjNWPFDBLU2waW\",\n",
      "         \"index\": 0,\n",
      "         \"path\": \"m/44'/0'/0'/0/0\",\n",
      "         \"privkey\": \"KzQ3o74J1R3MFuzvRNQWjckRz3AYZHgggJRbs3P7TH1ZoXJqKety\",\n",
      "         \"pubkey\": \"0399c9a8f6933934bfe811fc524c0e8684f971819398a0581f20ddf6371db0bb18\",\n",
      "         \"pubkeyhash\": \"b7a4d19972d97725ebe1d980ac875f4b41322ec5\",\n",
      "         \"xprv\": \"xprvA4EtnVRNTKMCodewrh6ipRZg96w7tyJMntxXmtPitFkMn7Dwe6BRfeC2bnL8DRs96stL1Kn752eZJqfFX1Fs25uaRxnUSSShU91qzeg5gWK\",\n",
      "         \"xpub\": \"xpub6HEFBzxGHguW27jQxidjBZWQh8mcJS2DA7t8aGoLSbHLeuZ6BdVgDSWWT5kbpKZxGjjA8qDfgYCyKgBeau5Qp48c5KC9dTaYjWd3jLfF8MG\"\n",
      "      },\n",
      "      {\n",
      "         \"address\": \"16LsmsW5nshaMWz4XXE9qZjE1HHEEF61Ma\",\n",
      "         \"index\": 1,\n",
      "         \"path\": \"m/44'/0'/0'/0/1\",\n",
      "         \"privkey\": \"L3PRGxRUzyYGDEnWsdtyunpa5DCfYcgKfBSCCXGEHofUyxYj7zc6\",\n",
      "         \"pubkey\": \"03412c487c7a81706519d3236215f717b9134a39e0447e1a70de08fd65d83ab7e1\",\n",
      "         \"pubkeyhash\": \"3a9aea7796dbbce5a965d1fa4a7cf01cec335e7d\",\n",
      "         \"xprv\": \"xprvA4EtnVRNTKMCq217SWBa6NsqSVyLTWUXtfzvAS59aMAE7oDrH6mcU6PKk5eQp6CHmMWRdX1d3JWWhbsHgdCzXa2x1aq2Fma1CDXCrpCbKzi\",\n",
      "         \"xpub\": \"xpub6HEFBzxGHguW3W5aYXiaTWpZzXopryCPFtvWxpUm8ghCzbYzpe5s1thobMiag5eAqA5LguGdtcoLEsJjFfyBpTV1kzXMa7aBXzCHwFfrRWH\"\n",
      "      },\n",
      "      {\n",
      "         \"address\": \"1NdkcejAbVQToA8Zc9mhevqxTwYp1oreey\",\n",
      "         \"index\": 2,\n",
      "         \"path\": \"m/44'/0'/0'/0/2\",\n",
      "         \"privkey\": \"KwuLeHZMNR4D9D4EHBTT2v3B3imvZdcv3tK3WJ8Ju4cSBBuU9XvA\",\n",
      "         \"pubkey\": \"02ead7d72915461c3a194b3a48c5af29caf1a570057b635bba031541dedd498521\",\n",
      "         \"pubkeyhash\": \"ed4e0615dce5ef76eae4b45b1be3dcb898a85c0e\",\n",
      "         \"xprv\": \"xprvA4EtnVRNTKMCsTVZJBFzMJgp4eP9hSvkPVsr6JuNRVFiNAkxFw4YcbGDrQCWxhEHHmG8WUDrGoA4r1u8CoNH13CKh8QpiLHkP5cFJkBSCh9\",\n",
      "         \"xpub\": \"xpub6HEFBzxGHguW5wa2QCnziSdYcgDe6uebkioSthJyypnhEy66oUNoAPahhgrjQneoKs5dcLRXbUMQoZy9vbuo7wcZqbifZHoiSqSubuHtZrg\"\n",
      "      }\n",
      "   ],\n",
      "   \"btc-test\": [\n",
      "      {\n",
      "         \"address\": \"mkwqRYLAfeoMJnnb5A9WegujdggyBeEPGD\",\n",
      "         \"index\": 0,\n",
      "         \"path\": \"m/44'/1'/0'/0/0\",\n",
      "         \"privkey\": \"cUMT7ptJgxrwSm9s5zSUCKUhSNVq1UC9v31vgoSusyukAciNMdDt\",\n",
      "         \"pubkey\": \"02dcb7a11c7172966e58679c0cb207bfb95d119cc55f9fb318d0a522aaff5b9577\",\n",
      "         \"pubkeyhash\": \"3b8d4adb98c1922686a0b9b3f10ee0f1ef7a2eb8\",\n",
      "         \"xprv\": \"tprv8khhNkzGYHzyhzgCwAKEf4xVvkBbV2vWqBQpybEMhGHivv3WgwhnjdCguDwQ1ujRnN5JWEM8q8nE8zjHSrthSTvMcxb6V575s5x2zT3q1Pk\",\n",
      "         \"xpub\": \"tpubDHPjXB2WgfgebThzpoyq4UccVmhXeN7RQV1cG7Gf7Y67mQJHKLXNv7pZ5M2WvzFPpQyVgMB9znNEFMefiFvgn7r72wMott5xBJksEZUfWX5\"\n",
      "      },\n",
      "      {\n",
      "         \"address\": \"mmUQuAvBYqVpKzayhaYvnJe9VuwkRdSWPu\",\n",
      "         \"index\": 1,\n",
      "         \"path\": \"m/44'/1'/0'/0/1\",\n",
      "         \"privkey\": \"cVj1Q51vqgtBEYokpcb6RtjMwVbAsaCmrQRyjMTHFm5rGoziYe44\",\n",
      "         \"pubkey\": \"024fca815b769b3e6920eb31081de336536e0a0dcba4955b6d7773b8acc205e0b4\",\n",
      "         \"pubkeyhash\": \"4155b748ac4f668e327a8b7a7c928241ba09eb85\",\n",
      "         \"xprv\": \"tprv8khhNkzGYHzyj6e6K8iKuPTCw6YLNRA3tRKCphDT4Yis5AKoPbwFLH7zqay3WqqcsnHCwJZedosPPAXcrHehSKV7MBy57KVPQxyQ3tHyq4g\",\n",
      "         \"xpub\": \"tpubDHPjXB2WgfgecZftCnNvJo7KW84GXkLxTiuz7DFkUpXFueaa1zkqWmjs1gg5EbtryQSJ81NQyoDwvXGWvis4AtWXeZXh9juHNWhUCGZwfRJ\"\n",
      "      },\n",
      "      {\n",
      "         \"address\": \"mxYAxY575hg56rGtU3n6754GfqCKRxzvep\",\n",
      "         \"index\": 2,\n",
      "         \"path\": \"m/44'/1'/0'/0/2\",\n",
      "         \"privkey\": \"cMzhL3wx92ETkcCDyTt8ouz8pXQnp7RBpE3pHu1637Sn16qVW9vo\",\n",
      "         \"pubkey\": \"03bdfba2cebb0d9fa135451ec068d05e6ddf07d8c79c13afa46b4658b3942cf087\",\n",
      "         \"pubkeyhash\": \"bab5200f7b800fc1fda9a7449df8b99064501931\",\n",
      "         \"xprv\": \"tprv8khhNkzGYHzymedp2vc5YrDY9Wo8pZHMTSMLVs5QX2JRV3iaHkTveCATn7hwZehVuu3HV986zzRHULnTF3dUB4gior6YYpv39vDdGmZtvo5\",\n",
      "         \"xpub\": \"tpubDHPjXB2Wgfgef7fbvaGfxFseiYK4ytUG2jx7nP7hwJ6pKXyLv9HWpgnKxHwpFx9yRGdHH7nRWwNVZJ39Neu7znX2LCPrWVgVDEN53WphdpV\"\n",
      "      }\n",
      "   ],\n",
      "   \"eth\": [\n",
      "      {\n",
      "         \"address\": \"0x02194a55DDA1B029F70220D53f099F38c629ab36\",\n",
      "         \"index\": 0,\n",
      "         \"path\": \"m/44'/60'/0'/0/0\",\n",
      "         \"privkey\": \"0xd36d0f9ff2f6dc80208cd19e0b7d939f11bd1a63d10c38cdc1c58f4dbbc95edc\",\n",
      "         \"pubkey\": \"03b21e2e1bc0b74c298d113c5c305c80cc76e67c4ff29e9b31028ea17328f8bba8\",\n",
      "         \"pubkeyhash\": \"a85e006b705f905c3e0e82485a33bf5bae8da52e\",\n",
      "         \"xprv\": \"xprvA2UAbkzcn2ntbeUWWeryfF3uDhgNm4dauGWnvnDix6CsvCzQuvLXjSRM7JTtTTWK9sX95nFVJwYhVGxXqPToYqhz27ChLeVmsCQQXUKHxdM\",\n",
      "         \"xpub\": \"xpub6FTX1GXWcQMBp8YycgPz2NzdmjWsAXMSGVSPjAdLWRjro1KZTTenHEjpxbBjGGK7wisPZe4htBommydMu8aPzi3Y94xHEdcN3ANiCP23RiY\"\n",
      "      },\n",
      "      {\n",
      "         \"address\": \"0x3dFb64A5AdAe2aDece2E252FE5E889d61Ef75122\",\n",
      "         \"index\": 1,\n",
      "         \"path\": \"m/44'/60'/0'/0/1\",\n",
      "         \"privkey\": \"0x81b180541f1ae73a48976095a58a342611fcedac9c00758510c0f3c0c63e5710\",\n",
      "         \"pubkey\": \"03b64da52e7b23d110002752118ecc97052e6637d916794bef1eaac7bba0a54d3b\",\n",
      "         \"pubkeyhash\": \"5d352e57cab65ca61793104f70e4b0f4543527aa\",\n",
      "         \"xprv\": \"xprvA2UAbkzcn2ntezNrVAWRNF7yPRSuWDGEu7CdrwoNhYEjuJdeqhFC9zpZ9Uomp4Tuzf47cQ661EzPLErPP9nSvAHoboLqYTTpNd1xfeFGuUP\",\n",
      "         \"xpub\": \"xpub6FTX1GXWcQMBsUTKbC3RjP4hwTHPufz6GL8EfLCzFsmin6xoPEZSho92znBTHFATi3RFHmhJLpwwR7P9KXcN9f4jAs4YUHRkkyg7spW5kZe\"\n",
      "      },\n",
      "      {\n",
      "         \"address\": \"0xdeA9cE1d814f6dAaEe900D864B7f1974Ab2f0A44\",\n",
      "         \"index\": 2,\n",
      "         \"path\": \"m/44'/60'/0'/0/2\",\n",
      "         \"privkey\": \"0x815b3bc011096f513a633ed35581e057423680405381db490576d48b95e1ab15\",\n",
      "         \"pubkey\": \"03e58f0070091a989dbede3de95458ddd960381f1846f4414dcc896edc04907735\",\n",
      "         \"pubkeyhash\": \"f1ba997dd9013d7140ac9367cf66ed197c1413b6\",\n",
      "         \"xprv\": \"xprvA2UAbkzcn2ntgZeXYbMHsrr7QnjdtoitxZDqhxkueuRiE6Eb1xqHUjriskG2mrFftCL29AUAj85B22PtvpSqspSWzLp9tzAQ9CsVKiW84m6\",\n",
      "         \"xpub\": \"xpub6FTX1GXWcQMBu3izectJEznqxpa8JGSkKn9SWMAXDExh6tZjZW9Y2YBCj3zfvXnQGoSrYoft3EGeXcURDCp9Mm9Rg4S3hug3GW2UeTFcFsQ\"\n",
      "      }\n",
      "   ]\n",
      "}\n"
     ]
    }
   ],
   "source": [
    "print(json.dumps(keys, indent=3, sort_keys=True))"
   ]
  },
  {
   "cell_type": "code",
   "execution_count": 14,
   "id": "fecfd8cc-75b6-419d-bace-9fd4e9285ddc",
   "metadata": {},
   "outputs": [],
   "source": [
    "def priv_key_to_account(coin, priv_key):\n",
    "    \"\"\"Convert the privkey string in a child key to an account object that bit or web3.py can use to transact\"\"\"\n",
    "    if coin == ETH:\n",
    "        return Account.privateKeyToAccount(priv_key)\n",
    "    if coin == BTCTEST:\n",
    "        return PrivateKeyTestnet(priv_key)\n",
    "    \n",
    "eth_acc = priv_key_to_account(ETH,eth_PrivateKey)\n",
    "btc_acc = priv_key_to_account(BTCTEST,btc_PrivateKey)"
   ]
  },
  {
   "cell_type": "code",
   "execution_count": 15,
   "id": "d46d8f74-64e5-43ee-9a2b-5bc71135b434",
   "metadata": {},
   "outputs": [
    {
     "name": "stdout",
     "output_type": "stream",
     "text": [
      "<eth_account.signers.local.LocalAccount object at 0x7fda80d3f590>\n",
      "<PrivateKeyTestnet: mkwqRYLAfeoMJnnb5A9WegujdggyBeEPGD>\n"
     ]
    }
   ],
   "source": [
    "print(eth_acc)\n",
    "print(btc_acc)"
   ]
  },
  {
   "cell_type": "code",
   "execution_count": 52,
   "id": "40f4a4f3-d028-49f5-a7ba-6379c85b9db7",
   "metadata": {},
   "outputs": [],
   "source": [
    "def create_trx(coin, account, recipient, amount):\n",
    "    \"\"\"create the raw, unsigned transaction that contains all metadata needed to transact\"\"\"\n",
    "    global trx_data\n",
    "    if coin ==ETH:\n",
    "        gasEstimate = w3.eth.estimateGas(\n",
    "            {\"from\": account.address, \"to\": recipient, \"value\": amount}\n",
    "        )\n",
    "        trx_data = {\n",
    "            \"chainId\" : 100,\n",
    "            \"to\": recipient,\n",
    "            \"from\": account.address,\n",
    "            \"value\": amount,\n",
    "            \"gasPrice\": w3.eth.gasPrice,\n",
    "            \"gas\": gasEstimate,\n",
    "            \"nonce\": w3.eth.getTransactionCount(account.address)\n",
    "        }\n",
    "        return trx_data\n",
    "\n",
    "    if coin == BTCTEST:\n",
    "        return PrivateKeyTestnet.prepare_transaction(account.address, [(recipient, amount, BTC)])"
   ]
  },
  {
   "cell_type": "code",
   "execution_count": 53,
   "id": "370d4a4e-24ee-4162-be83-f397aca8d91f",
   "metadata": {},
   "outputs": [],
   "source": [
    "def send_trx(coin, account, recipient, amount):\n",
    "    \"\"\"call create_trx, sign the transaction, then send it to the designated network\"\"\"\n",
    "    if coin == \"eth\": \n",
    "        trx_eth = create_trx(coin,account, recipient, amount)\n",
    "        sign = account.signTransaction(trx_eth)\n",
    "        result = w3.eth.sendRawTransaction(sign.rawTransaction)\n",
    "        print(result.hex())\n",
    "        return result.hex()\n",
    "    else:\n",
    "        trx_btctest= create_trx(coin,account,recipient,amount)\n",
    "        sign_trx_btctest = account.sign_transaction(trx_btctest)\n",
    "        from bit.network import NetworkAPI\n",
    "        NetworkAPI.broadcast_tx_testnet(sign_trx_btctest)       \n",
    "        return sign_trx_btctest"
   ]
  },
  {
   "cell_type": "markdown",
   "id": "3212e790-a9ba-4728-be7b-a214894f92b0",
   "metadata": {},
   "source": [
    "### Create transaction for BTC "
   ]
  },
  {
   "cell_type": "code",
   "execution_count": 17,
   "id": "9127120a-b845-478c-aae4-ff979bae684d",
   "metadata": {},
   "outputs": [
    {
     "data": {
      "text/plain": [
       "'{\"unspents\":[{\"amount\":8174985,\"confirmations\":47,\"script\":\"76a9143b8d4adb98c1922686a0b9b3f10ee0f1ef7a2eb888ac\",\"txid\":\"ae4588acf593d4c812b0aff0bc422f6be0678c20b15f72c4c3c4d4d99ab653ce\",\"txindex\":1,\"type\":\"p2pkh\",\"vsize\":148,\"segwit\":false,\"sequence\":4294967295}],\"outputs\":[[\"mtXBtkFWdG34JVmKzfVMUT2vYa5Q8DoRjh\",100000],[\"mkwqRYLAfeoMJnnb5A9WegujdggyBeEPGD\",8051933]]}'"
      ]
     },
     "execution_count": 17,
     "metadata": {},
     "output_type": "execute_result"
    }
   ],
   "source": [
    "create_trx(BTCTEST,btc_acc,\"mtXBtkFWdG34JVmKzfVMUT2vYa5Q8DoRjh\", 0.001)"
   ]
  },
  {
   "cell_type": "code",
   "execution_count": 18,
   "id": "16eb68e1-7155-4deb-9d6f-8a9f3466fba2",
   "metadata": {},
   "outputs": [
    {
     "data": {
      "text/plain": [
       "'0100000001ce53b69ad9d4c4c3c4725fb1208c67e06b2f42bcf0afb012c8d493f5ac8845ae010000006b483045022100f3b6a986d8253d3b705a8520225a00043dc28023a0f68d9e7d93da8508b3ef5202206622776bef1f1e676459d69d37cbcbafd47982ea2243a73a4af1ff9fdd10b43b012102dcb7a11c7172966e58679c0cb207bfb95d119cc55f9fb318d0a522aaff5b9577ffffffff02a0860100000000001976a9148ea4fc816fbebe9d5f6509f9367240e6b355af9b88acdddc7a00000000001976a9143b8d4adb98c1922686a0b9b3f10ee0f1ef7a2eb888ac00000000'"
      ]
     },
     "execution_count": 18,
     "metadata": {},
     "output_type": "execute_result"
    }
   ],
   "source": [
    "send_trx(BTCTEST,btc_acc,\"mtXBtkFWdG34JVmKzfVMUT2vYa5Q8DoRjh\",0.001)"
   ]
  },
  {
   "cell_type": "markdown",
   "id": "8a461304-fe22-412c-a9f5-b2dcebe02583",
   "metadata": {},
   "source": [
    "### Local PoA Ethereum transaction"
   ]
  },
  {
   "cell_type": "code",
   "execution_count": 29,
   "id": "c305d223-524a-4b7f-97c2-9f296ac05765",
   "metadata": {},
   "outputs": [],
   "source": [
    "from web3.middleware import geth_poa_middleware\n",
    "w3.middleware_onion.inject(geth_poa_middleware, layer=0)"
   ]
  },
  {
   "cell_type": "code",
   "execution_count": 30,
   "id": "13f93c96-7f1e-4540-8480-946c476f289a",
   "metadata": {},
   "outputs": [
    {
     "data": {
      "text/plain": [
       "<web3.main.Web3 at 0x7fda80d196d0>"
      ]
     },
     "execution_count": 30,
     "metadata": {},
     "output_type": "execute_result"
    }
   ],
   "source": [
    "w3 = Web3(Web3.HTTPProvider(\"http://127.0.0.1:8545\"))\n",
    "w3 "
   ]
  },
  {
   "cell_type": "code",
   "execution_count": 31,
   "id": "8dee399a-7b74-4638-8643-279084633344",
   "metadata": {},
   "outputs": [
    {
     "data": {
      "text/plain": [
       "True"
      ]
     },
     "execution_count": 31,
     "metadata": {},
     "output_type": "execute_result"
    }
   ],
   "source": [
    "load_dotenv()"
   ]
  },
  {
   "cell_type": "code",
   "execution_count": 32,
   "id": "b913fe99-b389-4faa-b296-7ffb1defc749",
   "metadata": {},
   "outputs": [],
   "source": [
    "private_key = os.getenv(\"PRIVATE_KEY\")"
   ]
  },
  {
   "cell_type": "code",
   "execution_count": 33,
   "id": "9112353a-ecf6-4796-8eda-e33c465b98dd",
   "metadata": {},
   "outputs": [],
   "source": [
    "account_one = Account.from_key(private_key)"
   ]
  },
  {
   "cell_type": "code",
   "execution_count": 34,
   "id": "f88ce789-1523-4ed9-87b9-f4f64b09eb57",
   "metadata": {},
   "outputs": [],
   "source": [
    "private_key2 = os.getenv(\"PRIVATE_KEY2\")\n",
    "account_two = Account.from_key(private_key2)"
   ]
  },
  {
   "cell_type": "code",
   "execution_count": 35,
   "id": "76929380-5907-4790-bc65-166d4bdb5846",
   "metadata": {},
   "outputs": [
    {
     "data": {
      "text/plain": [
       "'0x943becD089023d89531c56e8c31bBD670A80CC1D'"
      ]
     },
     "execution_count": 35,
     "metadata": {},
     "output_type": "execute_result"
    }
   ],
   "source": [
    "account_one.address"
   ]
  },
  {
   "cell_type": "code",
   "execution_count": 36,
   "id": "54e1e15c-e10d-45d2-b58e-41a90b8ab45e",
   "metadata": {},
   "outputs": [
    {
     "data": {
      "text/plain": [
       "'0x21ff02C61E69584d4aAe6b3aE80374D01778084f'"
      ]
     },
     "execution_count": 36,
     "metadata": {},
     "output_type": "execute_result"
    }
   ],
   "source": [
    "account_two.address"
   ]
  },
  {
   "cell_type": "code",
   "execution_count": 37,
   "id": "647de121-c6da-4636-a957-a0042e6a4e2f",
   "metadata": {},
   "outputs": [
    {
     "data": {
      "text/plain": [
       "'0x66AdBb47BE34D5143DBBe93ecf9af76352feC491'"
      ]
     },
     "execution_count": 37,
     "metadata": {},
     "output_type": "execute_result"
    }
   ],
   "source": [
    "private_key2 = os.getenv(\"PRIVATE_KEY1\")\n",
    "account_node1 = Account.from_key(private_key2)\n",
    "account_node1.address"
   ]
  },
  {
   "cell_type": "code",
   "execution_count": 38,
   "id": "c51866ac-824f-4326-8c66-8cb1d01bd407",
   "metadata": {},
   "outputs": [
    {
     "data": {
      "text/plain": [
       "904625697166532776746648320380374280103671755200316906358261115061821325312"
      ]
     },
     "execution_count": 38,
     "metadata": {},
     "output_type": "execute_result"
    }
   ],
   "source": [
    "w3.eth.getBalance(\"0x943becD089023d89531c56e8c31bBD670A80CC1D\")"
   ]
  },
  {
   "cell_type": "code",
   "execution_count": null,
   "id": "11fa815e-339c-43c6-91be-950afdbc3b03",
   "metadata": {},
   "outputs": [],
   "source": []
  },
  {
   "cell_type": "markdown",
   "id": "473e48ff-e3da-4d61-bb96-31964eebf196",
   "metadata": {},
   "source": [
    "### ETH Transacation "
   ]
  },
  {
   "cell_type": "code",
   "execution_count": 41,
   "id": "ae40627f-5a89-4349-acdd-4b22b0bfc7a9",
   "metadata": {},
   "outputs": [
    {
     "data": {
      "text/plain": [
       "{'to': '0x943becD089023d89531c56e8c31bBD670A80CC1D',\n",
       " 'from': '0x02194a55DDA1B029F70220D53f099F38c629ab36',\n",
       " 'value': 1,\n",
       " 'gasPrice': 1000000000,\n",
       " 'gas': 21000,\n",
       " 'nonce': 0}"
      ]
     },
     "execution_count": 41,
     "metadata": {},
     "output_type": "execute_result"
    }
   ],
   "source": [
    "# using the create_trx function \n",
    "\n",
    "create_trx(ETH,eth_acc,'0x943becD089023d89531c56e8c31bBD670A80CC1D', 1)"
   ]
  },
  {
   "cell_type": "code",
   "execution_count": 54,
   "id": "bf09e85b-c496-4983-a81e-70c983f1d51e",
   "metadata": {},
   "outputs": [
    {
     "name": "stdout",
     "output_type": "stream",
     "text": [
      "0xad780e0ce2ac1ba8c404522423ca77f92c65f74a11b544549167a9097c7b8207\n"
     ]
    },
    {
     "data": {
      "text/plain": [
       "'0xad780e0ce2ac1ba8c404522423ca77f92c65f74a11b544549167a9097c7b8207'"
      ]
     },
     "execution_count": 54,
     "metadata": {},
     "output_type": "execute_result"
    }
   ],
   "source": [
    "# using the send_trx function \n",
    "\n",
    "send_trx(ETH, eth_acc,\"0x943becD089023d89531c56e8c31bBD670A80CC1D\", 1)"
   ]
  },
  {
   "cell_type": "markdown",
   "id": "5dba7ca5-a771-4bf0-8c2e-1aca9ff1cd4a",
   "metadata": {},
   "source": [
    "### Check balance "
   ]
  },
  {
   "cell_type": "code",
   "execution_count": 55,
   "id": "8eef4644-8038-4264-9da9-610bb7308368",
   "metadata": {},
   "outputs": [
    {
     "data": {
      "text/plain": [
       "904625697166532776746648320380374280103671755200316906258260695061821325313"
      ]
     },
     "execution_count": 55,
     "metadata": {},
     "output_type": "execute_result"
    }
   ],
   "source": [
    "w3.eth.getBalance(account_one.address)"
   ]
  },
  {
   "cell_type": "code",
   "execution_count": null,
   "id": "842a9c4b-8069-4704-9ba4-c9dab13c12d4",
   "metadata": {},
   "outputs": [],
   "source": []
  }
 ],
 "metadata": {
  "kernelspec": {
   "display_name": "Python 3",
   "language": "python",
   "name": "python3"
  },
  "language_info": {
   "codemirror_mode": {
    "name": "ipython",
    "version": 3
   },
   "file_extension": ".py",
   "mimetype": "text/x-python",
   "name": "python",
   "nbconvert_exporter": "python",
   "pygments_lexer": "ipython3",
   "version": "3.7.10"
  }
 },
 "nbformat": 4,
 "nbformat_minor": 5
}
